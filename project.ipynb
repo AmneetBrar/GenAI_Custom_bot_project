{
 "cells": [
  {
   "cell_type": "markdown",
   "id": "124e5672",
   "metadata": {},
   "source": [
    "# Custom Chatbot Project"
   ]
  },
  {
   "cell_type": "markdown",
   "id": "2a4a94b3",
   "metadata": {},
   "source": [
    "TODO: In this cell, write an explanation of which dataset you have chosen and why it is appropriate for this task"
   ]
  },
  {
   "cell_type": "markdown",
   "id": "a63d4c5f",
   "metadata": {},
   "source": [
    "## Data Wrangling\n",
    "\n",
    "TODO: In the cells below, load your chosen dataset into a `pandas` dataframe with a column named `\"text\"`. This column should contain all of your text data, separated into at least 20 rows."
   ]
  },
  {
   "cell_type": "code",
   "execution_count": 1,
   "id": "c69b83a1",
   "metadata": {},
   "outputs": [
    {
     "data": {
      "text/html": [
       "<div>\n",
       "<style scoped>\n",
       "    .dataframe tbody tr th:only-of-type {\n",
       "        vertical-align: middle;\n",
       "    }\n",
       "\n",
       "    .dataframe tbody tr th {\n",
       "        vertical-align: top;\n",
       "    }\n",
       "\n",
       "    .dataframe thead th {\n",
       "        text-align: right;\n",
       "    }\n",
       "</style>\n",
       "<table border=\"1\" class=\"dataframe\">\n",
       "  <thead>\n",
       "    <tr style=\"text-align: right;\">\n",
       "      <th></th>\n",
       "      <th>text</th>\n",
       "    </tr>\n",
       "  </thead>\n",
       "  <tbody>\n",
       "    <tr>\n",
       "      <th>0</th>\n",
       "      <td>Emily | A young woman in her early 20s, Emily ...</td>\n",
       "    </tr>\n",
       "    <tr>\n",
       "      <th>1</th>\n",
       "      <td>Jack | A middle-aged man in his 40s, Jack is a...</td>\n",
       "    </tr>\n",
       "    <tr>\n",
       "      <th>2</th>\n",
       "      <td>Alice | A woman in her late 30s, Alice is a wa...</td>\n",
       "    </tr>\n",
       "    <tr>\n",
       "      <th>3</th>\n",
       "      <td>Tom | A man in his 50s, Tom is a retired soldi...</td>\n",
       "    </tr>\n",
       "    <tr>\n",
       "      <th>4</th>\n",
       "      <td>Sarah | A woman in her mid-20s, Sarah is a fre...</td>\n",
       "    </tr>\n",
       "    <tr>\n",
       "      <th>5</th>\n",
       "      <td>George | A man in his early 30s, George is a c...</td>\n",
       "    </tr>\n",
       "    <tr>\n",
       "      <th>6</th>\n",
       "      <td>Rachel | A woman in her late 20s, Rachel is a ...</td>\n",
       "    </tr>\n",
       "    <tr>\n",
       "      <th>7</th>\n",
       "      <td>John | A man in his 60s, John is a retired pro...</td>\n",
       "    </tr>\n",
       "    <tr>\n",
       "      <th>8</th>\n",
       "      <td>Maria | A middle-aged Latina woman in her 40s,...</td>\n",
       "    </tr>\n",
       "    <tr>\n",
       "      <th>9</th>\n",
       "      <td>Caleb | A young African American man in his ea...</td>\n",
       "    </tr>\n",
       "    <tr>\n",
       "      <th>10</th>\n",
       "      <td>Tyler | A white man in his mid-30s, Tyler is a...</td>\n",
       "    </tr>\n",
       "    <tr>\n",
       "      <th>11</th>\n",
       "      <td>Sonya | A white woman in her late 20s, Sonya i...</td>\n",
       "    </tr>\n",
       "    <tr>\n",
       "      <th>12</th>\n",
       "      <td>Manuel | A middle-aged Hispanic man in his 50s...</td>\n",
       "    </tr>\n",
       "    <tr>\n",
       "      <th>13</th>\n",
       "      <td>Will | A white man in his early 40s, Will is a...</td>\n",
       "    </tr>\n",
       "    <tr>\n",
       "      <th>14</th>\n",
       "      <td>Mia | A young Australian woman in her mid-20s,...</td>\n",
       "    </tr>\n",
       "    <tr>\n",
       "      <th>15</th>\n",
       "      <td>Lucas | A middle-aged Australian man in his 40...</td>\n",
       "    </tr>\n",
       "    <tr>\n",
       "      <th>16</th>\n",
       "      <td>Tahlia | A young Indigenous Australian woman i...</td>\n",
       "    </tr>\n",
       "    <tr>\n",
       "      <th>17</th>\n",
       "      <td>Max | A white Australian man in his late 20s, ...</td>\n",
       "    </tr>\n",
       "    <tr>\n",
       "      <th>18</th>\n",
       "      <td>Ava | A middle-aged Australian woman in her 50...</td>\n",
       "    </tr>\n",
       "    <tr>\n",
       "      <th>19</th>\n",
       "      <td>Donna | A seasoned performer with a larger-tha...</td>\n",
       "    </tr>\n",
       "    <tr>\n",
       "      <th>20</th>\n",
       "      <td>Johnny | A young up-and-coming performer, John...</td>\n",
       "    </tr>\n",
       "    <tr>\n",
       "      <th>21</th>\n",
       "      <td>Sable | A sultry and dramatic performer, Sable...</td>\n",
       "    </tr>\n",
       "    <tr>\n",
       "      <th>22</th>\n",
       "      <td>Dolly | A bubbly and vivacious performer, Doll...</td>\n",
       "    </tr>\n",
       "    <tr>\n",
       "      <th>23</th>\n",
       "      <td>Vixen | A fierce and competitive performer, Vi...</td>\n",
       "    </tr>\n",
       "    <tr>\n",
       "      <th>24</th>\n",
       "      <td>Karma | A chameleon-like performer, Karma is k...</td>\n",
       "    </tr>\n",
       "    <tr>\n",
       "      <th>25</th>\n",
       "      <td>Crystal | A quirky and imaginative performer, ...</td>\n",
       "    </tr>\n",
       "    <tr>\n",
       "      <th>26</th>\n",
       "      <td>Olivia | A confident and charismatic marketing...</td>\n",
       "    </tr>\n",
       "    <tr>\n",
       "      <th>27</th>\n",
       "      <td>Marcus | A charming and successful entrepreneu...</td>\n",
       "    </tr>\n",
       "    <tr>\n",
       "      <th>28</th>\n",
       "      <td>Maya | A kind and compassionate nurse with a h...</td>\n",
       "    </tr>\n",
       "    <tr>\n",
       "      <th>29</th>\n",
       "      <td>James | A handsome and athletic personal train...</td>\n",
       "    </tr>\n",
       "    <tr>\n",
       "      <th>30</th>\n",
       "      <td>Sophia | A fun-loving and adventurous travel b...</td>\n",
       "    </tr>\n",
       "    <tr>\n",
       "      <th>31</th>\n",
       "      <td>Noah | A quirky and creative graphic designer,...</td>\n",
       "    </tr>\n",
       "    <tr>\n",
       "      <th>32</th>\n",
       "      <td>Chloe | A driven and ambitious attorney, Chloe...</td>\n",
       "    </tr>\n",
       "    <tr>\n",
       "      <th>33</th>\n",
       "      <td>Jake | A laid-back and easygoing firefighter, ...</td>\n",
       "    </tr>\n",
       "    <tr>\n",
       "      <th>34</th>\n",
       "      <td>Prince Lorenzo | A charming and handsome princ...</td>\n",
       "    </tr>\n",
       "    <tr>\n",
       "      <th>35</th>\n",
       "      <td>Signora Rosa | A mysterious and alluring woman...</td>\n",
       "    </tr>\n",
       "    <tr>\n",
       "      <th>36</th>\n",
       "      <td>Baron Gustavo | A wealthy and arrogant noblema...</td>\n",
       "    </tr>\n",
       "    <tr>\n",
       "      <th>37</th>\n",
       "      <td>Francesca | A fiery and passionate young woman...</td>\n",
       "    </tr>\n",
       "    <tr>\n",
       "      <th>38</th>\n",
       "      <td>Don Carlo | A charming and charismatic young m...</td>\n",
       "    </tr>\n",
       "    <tr>\n",
       "      <th>39</th>\n",
       "      <td>Duke Orsino | A pompous and self-important nob...</td>\n",
       "    </tr>\n",
       "    <tr>\n",
       "      <th>40</th>\n",
       "      <td>Lady Olivia | A wealthy and beautiful noblewom...</td>\n",
       "    </tr>\n",
       "    <tr>\n",
       "      <th>41</th>\n",
       "      <td>Sir Toby Belch | A drunken and lecherous knigh...</td>\n",
       "    </tr>\n",
       "    <tr>\n",
       "      <th>42</th>\n",
       "      <td>Malvolio | A pompous and self-righteous stewar...</td>\n",
       "    </tr>\n",
       "    <tr>\n",
       "      <th>43</th>\n",
       "      <td>Viola | A plucky and resourceful young woman w...</td>\n",
       "    </tr>\n",
       "    <tr>\n",
       "      <th>44</th>\n",
       "      <td>Sir Andrew Aguecheek | A dim-witted and gullib...</td>\n",
       "    </tr>\n",
       "    <tr>\n",
       "      <th>45</th>\n",
       "      <td>Bianca | Lady Olivia's cunning and quick-witte...</td>\n",
       "    </tr>\n",
       "    <tr>\n",
       "      <th>46</th>\n",
       "      <td>Sebastian | Viola's twin brother, who is also ...</td>\n",
       "    </tr>\n",
       "    <tr>\n",
       "      <th>47</th>\n",
       "      <td>Feste | A jester and musician who works in Lad...</td>\n",
       "    </tr>\n",
       "    <tr>\n",
       "      <th>48</th>\n",
       "      <td>Antonio | A sea captain who rescues Sebastian ...</td>\n",
       "    </tr>\n",
       "    <tr>\n",
       "      <th>49</th>\n",
       "      <td>Abigail | A plucky and resourceful young woman...</td>\n",
       "    </tr>\n",
       "    <tr>\n",
       "      <th>50</th>\n",
       "      <td>Thomas | A good-natured and affable young man ...</td>\n",
       "    </tr>\n",
       "    <tr>\n",
       "      <th>51</th>\n",
       "      <td>Reverend Brown | The pious and stern minister ...</td>\n",
       "    </tr>\n",
       "    <tr>\n",
       "      <th>52</th>\n",
       "      <td>Captain James | The charismatic and dashing ca...</td>\n",
       "    </tr>\n",
       "    <tr>\n",
       "      <th>53</th>\n",
       "      <td>Mrs. Mercer | The matriarch of the wealthiest ...</td>\n",
       "    </tr>\n",
       "    <tr>\n",
       "      <th>54</th>\n",
       "      <td>Mr. Mercer | The bumbling and absent-minded pa...</td>\n",
       "    </tr>\n",
       "  </tbody>\n",
       "</table>\n",
       "</div>"
      ],
      "text/plain": [
       "                                                 text\n",
       "0   Emily | A young woman in her early 20s, Emily ...\n",
       "1   Jack | A middle-aged man in his 40s, Jack is a...\n",
       "2   Alice | A woman in her late 30s, Alice is a wa...\n",
       "3   Tom | A man in his 50s, Tom is a retired soldi...\n",
       "4   Sarah | A woman in her mid-20s, Sarah is a fre...\n",
       "5   George | A man in his early 30s, George is a c...\n",
       "6   Rachel | A woman in her late 20s, Rachel is a ...\n",
       "7   John | A man in his 60s, John is a retired pro...\n",
       "8   Maria | A middle-aged Latina woman in her 40s,...\n",
       "9   Caleb | A young African American man in his ea...\n",
       "10  Tyler | A white man in his mid-30s, Tyler is a...\n",
       "11  Sonya | A white woman in her late 20s, Sonya i...\n",
       "12  Manuel | A middle-aged Hispanic man in his 50s...\n",
       "13  Will | A white man in his early 40s, Will is a...\n",
       "14  Mia | A young Australian woman in her mid-20s,...\n",
       "15  Lucas | A middle-aged Australian man in his 40...\n",
       "16  Tahlia | A young Indigenous Australian woman i...\n",
       "17  Max | A white Australian man in his late 20s, ...\n",
       "18  Ava | A middle-aged Australian woman in her 50...\n",
       "19  Donna | A seasoned performer with a larger-tha...\n",
       "20  Johnny | A young up-and-coming performer, John...\n",
       "21  Sable | A sultry and dramatic performer, Sable...\n",
       "22  Dolly | A bubbly and vivacious performer, Doll...\n",
       "23  Vixen | A fierce and competitive performer, Vi...\n",
       "24  Karma | A chameleon-like performer, Karma is k...\n",
       "25  Crystal | A quirky and imaginative performer, ...\n",
       "26  Olivia | A confident and charismatic marketing...\n",
       "27  Marcus | A charming and successful entrepreneu...\n",
       "28  Maya | A kind and compassionate nurse with a h...\n",
       "29  James | A handsome and athletic personal train...\n",
       "30  Sophia | A fun-loving and adventurous travel b...\n",
       "31  Noah | A quirky and creative graphic designer,...\n",
       "32  Chloe | A driven and ambitious attorney, Chloe...\n",
       "33  Jake | A laid-back and easygoing firefighter, ...\n",
       "34  Prince Lorenzo | A charming and handsome princ...\n",
       "35  Signora Rosa | A mysterious and alluring woman...\n",
       "36  Baron Gustavo | A wealthy and arrogant noblema...\n",
       "37  Francesca | A fiery and passionate young woman...\n",
       "38  Don Carlo | A charming and charismatic young m...\n",
       "39  Duke Orsino | A pompous and self-important nob...\n",
       "40  Lady Olivia | A wealthy and beautiful noblewom...\n",
       "41  Sir Toby Belch | A drunken and lecherous knigh...\n",
       "42  Malvolio | A pompous and self-righteous stewar...\n",
       "43  Viola | A plucky and resourceful young woman w...\n",
       "44  Sir Andrew Aguecheek | A dim-witted and gullib...\n",
       "45  Bianca | Lady Olivia's cunning and quick-witte...\n",
       "46  Sebastian | Viola's twin brother, who is also ...\n",
       "47  Feste | A jester and musician who works in Lad...\n",
       "48  Antonio | A sea captain who rescues Sebastian ...\n",
       "49  Abigail | A plucky and resourceful young woman...\n",
       "50  Thomas | A good-natured and affable young man ...\n",
       "51  Reverend Brown | The pious and stern minister ...\n",
       "52  Captain James | The charismatic and dashing ca...\n",
       "53  Mrs. Mercer | The matriarch of the wealthiest ...\n",
       "54  Mr. Mercer | The bumbling and absent-minded pa..."
      ]
     },
     "execution_count": 1,
     "metadata": {},
     "output_type": "execute_result"
    }
   ],
   "source": [
    "import pandas as pd\n",
    "df = pd.read_csv('data/character_descriptions.csv')\n",
    "df\n",
    "df = df.apply(lambda col: col.str.strip() if col.dtype == \"object\" else col)\n",
    "df[\"text\"] = df.apply(lambda row: \" | \".join(row.values.astype(str)), axis=1)\n",
    "df = df[['text']]\n",
    "df"
   ]
  },
  {
   "cell_type": "code",
   "execution_count": 2,
   "id": "0a595980",
   "metadata": {},
   "outputs": [
    {
     "name": "stdout",
     "output_type": "stream",
     "text": [
      "                                                 text\n",
      "54  Mr. Mercer | The bumbling and absent-minded pa...\n"
     ]
    }
   ],
   "source": [
    "def search_dataset(query, df, top_k=3):\n",
    "    matches = df[df['text'].str.contains(query, case=False, na=False)]\n",
    "    return matches.head(top_k)\n",
    "\n",
    "# Example use\n",
    "print(search_dataset(\"Mr. Mercer\", df))"
   ]
  },
  {
   "cell_type": "code",
   "execution_count": 4,
   "id": "acb3a9fd",
   "metadata": {},
   "outputs": [
    {
     "name": "stdout",
     "output_type": "stream",
     "text": [
      "Collecting openai\n",
      "  Downloading openai-1.99.9-py3-none-any.whl.metadata (29 kB)\n",
      "Requirement already satisfied: anyio<5,>=3.5.0 in ./.venv/lib/python3.9/site-packages (from openai) (4.9.0)\n",
      "Collecting distro<2,>=1.7.0 (from openai)\n",
      "  Downloading distro-1.9.0-py3-none-any.whl.metadata (6.8 kB)\n",
      "Requirement already satisfied: httpx<1,>=0.23.0 in ./.venv/lib/python3.9/site-packages (from openai) (0.28.1)\n",
      "Collecting jiter<1,>=0.4.0 (from openai)\n",
      "  Downloading jiter-0.10.0-cp39-cp39-macosx_11_0_arm64.whl.metadata (5.2 kB)\n",
      "Collecting pydantic<3,>=1.9.0 (from openai)\n",
      "  Downloading pydantic-2.11.7-py3-none-any.whl.metadata (67 kB)\n",
      "Requirement already satisfied: sniffio in ./.venv/lib/python3.9/site-packages (from openai) (1.3.1)\n",
      "Requirement already satisfied: tqdm>4 in ./.venv/lib/python3.9/site-packages (from openai) (4.67.1)\n",
      "Requirement already satisfied: typing-extensions<5,>=4.11 in ./.venv/lib/python3.9/site-packages (from openai) (4.14.0)\n",
      "Requirement already satisfied: exceptiongroup>=1.0.2 in ./.venv/lib/python3.9/site-packages (from anyio<5,>=3.5.0->openai) (1.3.0)\n",
      "Requirement already satisfied: idna>=2.8 in ./.venv/lib/python3.9/site-packages (from anyio<5,>=3.5.0->openai) (3.10)\n",
      "Requirement already satisfied: certifi in ./.venv/lib/python3.9/site-packages (from httpx<1,>=0.23.0->openai) (2025.6.15)\n",
      "Requirement already satisfied: httpcore==1.* in ./.venv/lib/python3.9/site-packages (from httpx<1,>=0.23.0->openai) (1.0.9)\n",
      "Requirement already satisfied: h11>=0.16 in ./.venv/lib/python3.9/site-packages (from httpcore==1.*->httpx<1,>=0.23.0->openai) (0.16.0)\n",
      "Collecting annotated-types>=0.6.0 (from pydantic<3,>=1.9.0->openai)\n",
      "  Downloading annotated_types-0.7.0-py3-none-any.whl.metadata (15 kB)\n",
      "Collecting pydantic-core==2.33.2 (from pydantic<3,>=1.9.0->openai)\n",
      "  Downloading pydantic_core-2.33.2-cp39-cp39-macosx_11_0_arm64.whl.metadata (6.8 kB)\n",
      "Collecting typing-inspection>=0.4.0 (from pydantic<3,>=1.9.0->openai)\n",
      "  Downloading typing_inspection-0.4.1-py3-none-any.whl.metadata (2.6 kB)\n",
      "Downloading openai-1.99.9-py3-none-any.whl (786 kB)\n",
      "\u001b[2K   \u001b[90m━━━━━━━━━━━━━━━━━━━━━━━━━━━━━━━━━━━━━━━━\u001b[0m \u001b[32m786.8/786.8 kB\u001b[0m \u001b[31m37.2 MB/s\u001b[0m eta \u001b[36m0:00:00\u001b[0m\n",
      "\u001b[?25hDownloading distro-1.9.0-py3-none-any.whl (20 kB)\n",
      "Downloading jiter-0.10.0-cp39-cp39-macosx_11_0_arm64.whl (312 kB)\n",
      "Downloading pydantic-2.11.7-py3-none-any.whl (444 kB)\n",
      "Downloading pydantic_core-2.33.2-cp39-cp39-macosx_11_0_arm64.whl (1.9 MB)\n",
      "\u001b[2K   \u001b[90m━━━━━━━━━━━━━━━━━━━━━━━━━━━━━━━━━━━━━━━━\u001b[0m \u001b[32m1.9/1.9 MB\u001b[0m \u001b[31m50.3 MB/s\u001b[0m eta \u001b[36m0:00:00\u001b[0m\n",
      "\u001b[?25hDownloading annotated_types-0.7.0-py3-none-any.whl (13 kB)\n",
      "Downloading typing_inspection-0.4.1-py3-none-any.whl (14 kB)\n",
      "Installing collected packages: typing-inspection, pydantic-core, jiter, distro, annotated-types, pydantic, openai\n",
      "\u001b[2K   \u001b[90m━━━━━━━━━━━━━━━━━━━━━━━━━━━━━━━━━━━━━━━━\u001b[0m \u001b[32m7/7\u001b[0m [openai]2m6/7\u001b[0m [openai]\n",
      "\u001b[1A\u001b[2KSuccessfully installed annotated-types-0.7.0 distro-1.9.0 jiter-0.10.0 openai-1.99.9 pydantic-2.11.7 pydantic-core-2.33.2 typing-inspection-0.4.1\n",
      "\n",
      "\u001b[1m[\u001b[0m\u001b[34;49mnotice\u001b[0m\u001b[1;39;49m]\u001b[0m\u001b[39;49m A new release of pip is available: \u001b[0m\u001b[31;49m25.1.1\u001b[0m\u001b[39;49m -> \u001b[0m\u001b[32;49m25.2\u001b[0m\n",
      "\u001b[1m[\u001b[0m\u001b[34;49mnotice\u001b[0m\u001b[1;39;49m]\u001b[0m\u001b[39;49m To update, run: \u001b[0m\u001b[32;49mpip install --upgrade pip\u001b[0m\n"
     ]
    }
   ],
   "source": [
    " !pip install openai"
   ]
  },
  {
   "cell_type": "markdown",
   "id": "ae769871",
   "metadata": {},
   "source": [
    "## Custom Query Completion\n",
    "\n",
    "TODO: In the cells below, compose a custom query using your chosen dataset and retrieve results from an OpenAI `Completion` model. You may copy and paste any useful code from the course materials."
   ]
  },
  {
   "cell_type": "code",
   "execution_count": 24,
   "id": "582f0656",
   "metadata": {},
   "outputs": [],
   "source": [
    "from openai import OpenAI\n",
    "client = OpenAI(api_key = \"YOUR API KEY\")\n",
    "\n",
    "def ask_openai(prompt):\n",
    "    response = client.chat.completions.create(\n",
    "        model=\"gpt-3.5-turbo\",    # Use model, not engine\n",
    "        messages=[\n",
    "            {\"role\": \"system\", \"content\": \"You are a helpful assistant.\"},\n",
    "            {\"role\": \"user\", \"content\": prompt}\n",
    "        ],\n",
    "        max_tokens=50,\n",
    "        temperature=0\n",
    "    )\n",
    "    return response.choices[0].message.content.strip()"
   ]
  },
  {
   "cell_type": "code",
   "execution_count": 25,
   "id": "8b6e1f75",
   "metadata": {},
   "outputs": [],
   "source": [
    "def custom_chatbot(input_question, df):\n",
    "    relevant = search_dataset(input_question, df)\n",
    "    context = \"\\n\".join(\n",
    "        f\"{row['text']}\"\n",
    "        for _, row in relevant.iterrows()\n",
    "    )\n",
    "    prompt = \"Here are some character descriptions:\\n\" + context + \\\n",
    "             \"\\n\\nUser question: \" + input_question + \"\\n\\nAnswer concisely:\"\n",
    "    return ask_openai(prompt)"
   ]
  },
  {
   "cell_type": "code",
   "execution_count": 26,
   "id": "13f2dcd7",
   "metadata": {},
   "outputs": [],
   "source": [
    "def chatbot(input_question):\n",
    " return ask_openai(input_question)"
   ]
  },
  {
   "cell_type": "code",
   "execution_count": null,
   "id": "c403f543",
   "metadata": {},
   "outputs": [],
   "source": []
  },
  {
   "cell_type": "code",
   "execution_count": null,
   "id": "74280b92",
   "metadata": {},
   "outputs": [],
   "source": []
  },
  {
   "cell_type": "markdown",
   "id": "1783f146",
   "metadata": {},
   "source": [
    "## Custom Performance Demonstration\n",
    "\n",
    "TODO: In the cells below, demonstrate the performance of your custom query using at least 2 questions. For each question, show the answer from a basic `Completion` model query as well as the answer from your custom query."
   ]
  },
  {
   "cell_type": "markdown",
   "id": "4f11fdc0",
   "metadata": {},
   "source": [
    "### Question 1"
   ]
  },
  {
   "cell_type": "code",
   "execution_count": 28,
   "id": "4901c850",
   "metadata": {},
   "outputs": [
    {
     "data": {
      "text/plain": [
       "'Mr. Mercer is a middle-aged man with a stern demeanor, always impeccably dressed in a suit and tie. He is known for his sharp wit and no-nonsense attitude.'"
      ]
     },
     "execution_count": 28,
     "metadata": {},
     "output_type": "execute_result"
    }
   ],
   "source": [
    "custom_chatbot(\"Tell me about Mr. Mercer\",df)"
   ]
  },
  {
   "cell_type": "code",
   "execution_count": 29,
   "id": "bd7a093b",
   "metadata": {},
   "outputs": [
    {
     "data": {
      "text/plain": [
       "\"I'm sorry, but I would need more information to provide details about Mr. Mercer. Could you please provide more context or specify which Mr. Mercer you are referring to?\""
      ]
     },
     "execution_count": 29,
     "metadata": {},
     "output_type": "execute_result"
    }
   ],
   "source": [
    "chatbot(\"Tell me about Mr. Mercer\")"
   ]
  },
  {
   "cell_type": "markdown",
   "id": "6e86e37c",
   "metadata": {},
   "source": [
    "### Question 2"
   ]
  },
  {
   "cell_type": "code",
   "execution_count": 30,
   "id": "6f646989",
   "metadata": {},
   "outputs": [
    {
     "data": {
      "text/plain": [
       "'Alice is a curious and imaginative young girl who falls down a rabbit hole into a whimsical and nonsensical world in Lewis Carroll\\'s novel \"Alice\\'s Adventures in Wonderland.\"'"
      ]
     },
     "execution_count": 30,
     "metadata": {},
     "output_type": "execute_result"
    }
   ],
   "source": [
    "custom_chatbot(\"who is Alice?\",df)"
   ]
  },
  {
   "cell_type": "code",
   "execution_count": 31,
   "id": "11c07a54",
   "metadata": {},
   "outputs": [
    {
     "data": {
      "text/plain": [
       "'Alice is a fictional character who is the protagonist of Lewis Carroll\\'s classic novels \"Alice\\'s Adventures in Wonderland\" and \"Through the Looking-Glass.\" She is a curious and adventurous young girl who encounters a variety of strange and whimsical characters and situations'"
      ]
     },
     "execution_count": 31,
     "metadata": {},
     "output_type": "execute_result"
    }
   ],
   "source": [
    "chatbot(\"who is Alice?\")"
   ]
  },
  {
   "cell_type": "code",
   "execution_count": null,
   "id": "bff58356-3c1c-4c4e-9928-a9ef6b736710",
   "metadata": {},
   "outputs": [],
   "source": []
  }
 ],
 "metadata": {
  "kernelspec": {
   "display_name": "Python 3 (ipykernel)",
   "language": "python",
   "name": "python3"
  },
  "language_info": {
   "codemirror_mode": {
    "name": "ipython",
    "version": 3
   },
   "file_extension": ".py",
   "mimetype": "text/x-python",
   "name": "python",
   "nbconvert_exporter": "python",
   "pygments_lexer": "ipython3",
   "version": "3.9.6"
  }
 },
 "nbformat": 4,
 "nbformat_minor": 5
}
